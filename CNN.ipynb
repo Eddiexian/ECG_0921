{
  "nbformat": 4,
  "nbformat_minor": 0,
  "metadata": {
    "colab": {
      "name": "CNN.ipynb",
      "provenance": []
    },
    "kernelspec": {
      "name": "python3",
      "display_name": "Python 3"
    }
  },
  "cells": [
    {
      "cell_type": "code",
      "metadata": {
        "id": "NdK9GX3WHuVc"
      },
      "source": [
        "import numpy as np\n",
        "from keras.datasets import mnist\n",
        "from keras.utils import np_utils\n",
        "from keras.models import Sequential\n",
        "from keras.layers import Dense, Activation, Convolution2D, MaxPooling2D, Flatten\n",
        "from keras.optimizers import Adam"
      ],
      "execution_count": 1,
      "outputs": []
    },
    {
      "cell_type": "code",
      "metadata": {
        "id": "M5n_q-KlHwIK",
        "outputId": "29c8a380-7f19-479b-cf2e-16d766d89bd4",
        "colab": {
          "base_uri": "https://localhost:8080/",
          "height": 51
        }
      },
      "source": [
        "(X_train, y_train), (X_test, y_test) = mnist.load_data()"
      ],
      "execution_count": 2,
      "outputs": [
        {
          "output_type": "stream",
          "text": [
            "Downloading data from https://storage.googleapis.com/tensorflow/tf-keras-datasets/mnist.npz\n",
            "11493376/11490434 [==============================] - 0s 0us/step\n"
          ],
          "name": "stdout"
        }
      ]
    },
    {
      "cell_type": "code",
      "metadata": {
        "id": "CHmVaRO3H003"
      },
      "source": [
        "X_train = X_train.reshape(-1, 1,28, 28)/255.\n",
        "X_test = X_test.reshape(-1, 1,28, 28)/255.\n",
        "y_train = np_utils.to_categorical(y_train, num_classes=10)\n",
        "y_test = np_utils.to_categorical(y_test, num_classes=10)"
      ],
      "execution_count": 3,
      "outputs": []
    },
    {
      "cell_type": "code",
      "metadata": {
        "id": "s3EuYd6QH5oP"
      },
      "source": [
        "model = Sequential()\n",
        "\n",
        "# Conv layer 1 output shape (32, 28, 28)\n",
        "model.add(Convolution2D(\n",
        "    batch_input_shape=(None, 1, 28, 28),\n",
        "    filters=32,\n",
        "    kernel_size=5,\n",
        "    strides=1,\n",
        "    padding='same',     # Padding method\n",
        "    \n",
        "))\n",
        "model.add(Activation('relu'))\n",
        "\n",
        "# Pooling layer 1 (max pooling) output shape (32, 14, 14)\n",
        "model.add(MaxPooling2D(\n",
        "    pool_size=2,\n",
        "    strides=2,\n",
        "    padding='same',    # Padding method\n",
        "    \n",
        "))\n",
        "\n",
        "# Conv layer 2 output shape (64, 14, 14)\n",
        "model.add(Convolution2D(64, 5, strides=1, padding='same',))\n",
        "model.add(Activation('relu'))\n",
        "\n",
        "# Pooling layer 2 (max pooling) output shape (64, 7, 7)\n",
        "model.add(MaxPooling2D(2, 2, padding='same' ))\n",
        "\n",
        "# Fully connected layer 1 input shape (64 * 7 * 7) = (3136), output shape (1024)\n",
        "model.add(Flatten())\n",
        "model.add(Dense(1024))\n",
        "model.add(Activation('relu'))\n",
        "\n",
        "# Fully connected layer 2 to shape (10) for 10 classes\n",
        "model.add(Dense(10))\n",
        "model.add(Activation('softmax'))\n"
      ],
      "execution_count": 12,
      "outputs": []
    },
    {
      "cell_type": "code",
      "metadata": {
        "id": "mwshJj36H9Sf"
      },
      "source": [
        "# Another way to define your optimizer\n",
        "adam = Adam(lr=1e-4)\n",
        "\n",
        "# We add metrics to get more results you want to see\n",
        "model.compile(optimizer=adam,\n",
        "              loss='categorical_crossentropy',\n",
        "              metrics=['accuracy'])"
      ],
      "execution_count": 13,
      "outputs": []
    },
    {
      "cell_type": "code",
      "metadata": {
        "id": "MHsTpmvbH_TX",
        "outputId": "1776376f-a6dd-4679-af02-0c7d604c394c",
        "colab": {
          "base_uri": "https://localhost:8080/",
          "height": 170
        }
      },
      "source": [
        "\n",
        "print('Training ------------')\n",
        "# Another way to train the model\n",
        "model.fit(X_train, y_train, epochs=1, batch_size=64,)\n",
        "\n",
        "print('\\nTesting ------------')\n",
        "# Evaluate the model with the metrics we defined earlier\n",
        "loss, accuracy = model.evaluate(X_test, y_test)\n",
        "\n",
        "print('\\ntest loss: ', loss)\n",
        "print('\\ntest accuracy: ', accuracy)"
      ],
      "execution_count": 14,
      "outputs": [
        {
          "output_type": "stream",
          "text": [
            "Training ------------\n",
            "938/938 [==============================] - 27s 29ms/step - loss: 0.5606 - accuracy: 0.8507\n",
            "\n",
            "Testing ------------\n",
            "313/313 [==============================] - 2s 6ms/step - loss: 0.2254 - accuracy: 0.9361\n",
            "\n",
            "test loss:  0.22538132965564728\n",
            "\n",
            "test accuracy:  0.9361000061035156\n"
          ],
          "name": "stdout"
        }
      ]
    },
    {
      "cell_type": "code",
      "metadata": {
        "id": "JhoJXl9JIA08"
      },
      "source": [
        ""
      ],
      "execution_count": null,
      "outputs": []
    }
  ]
}