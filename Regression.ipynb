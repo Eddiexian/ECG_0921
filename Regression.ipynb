{
  "nbformat": 4,
  "nbformat_minor": 0,
  "metadata": {
    "colab": {
      "name": "Regression.ipynb",
      "provenance": []
    },
    "kernelspec": {
      "name": "python3",
      "display_name": "Python 3"
    }
  },
  "cells": [
    {
      "cell_type": "code",
      "metadata": {
        "id": "qwbJ-rcCDrix"
      },
      "source": [
        "import numpy as np\n",
        "from keras.models import Sequential\n",
        "from keras.layers import Dense\n",
        "import matplotlib.pyplot as plt"
      ],
      "execution_count": 6,
      "outputs": []
    },
    {
      "cell_type": "code",
      "metadata": {
        "id": "zwiqRPDJD5oS",
        "outputId": "426649d0-c633-4b56-9253-ded5997f7476",
        "colab": {
          "base_uri": "https://localhost:8080/",
          "height": 268
        }
      },
      "source": [
        "# create some data\n",
        "\n",
        "X = np.linspace(-1, 1, 200)\n",
        "\n",
        "\n",
        "np.random.shuffle(X)    # randomize the data\n",
        "\n",
        "Y = 0.5 * X + 2 + np.random.normal(0, 0.05, (200, ))\n",
        "# plot data\n",
        "plt.scatter(X, Y)\n",
        "plt.show()"
      ],
      "execution_count": 7,
      "outputs": [
        {
          "output_type": "display_data",
          "data": {
            "image/png": "[encoded data removed]",
            "text/plain": [
              "<Figure size 432x288 with 1 Axes>"
            ]
          },
          "metadata": {
            "tags": [],
            "needs_background": "light"
          }
        }
      ]
    },
    {
      "cell_type": "code",
      "metadata": {
        "id": "aK1Qko8yEBdQ"
      },
      "source": [
        "X_train, Y_train = X[:160], Y[:160]     # first 160 data points\n",
        "X_test, Y_test = X[160:], Y[160:]       # last 40 data points\n"
      ],
      "execution_count": 8,
      "outputs": []
    },
    {
      "cell_type": "code",
      "metadata": {
        "id": "ajuD31pTES9G"
      },
      "source": [
        "# build a neural network from the 1st layer to the last layer\n",
        "model = Sequential()\n",
        "\n",
        "model.add(Dense(units=1, input_dim=1)) \n",
        "\n",
        "# choose loss function and optimizing method\n",
        "model.compile(loss='mse', optimizer='sgd')"
      ],
      "execution_count": 9,
      "outputs": []
    },
    {
      "cell_type": "code",
      "metadata": {
        "id": "ODDKEv_HETY5",
        "outputId": "9026511b-6074-4b42-97ca-5d74ac3a41f5",
        "colab": {
          "base_uri": "https://localhost:8080/",
          "height": 102
        }
      },
      "source": [
        "# training\n",
        "print('Training -----------')\n",
        "for step in range(301):\n",
        "    cost = model.train_on_batch(X_train, Y_train)\n",
        "    if step % 100 == 0:\n",
        "        print('train cost: ', cost)"
      ],
      "execution_count": 10,
      "outputs": [
        {
          "output_type": "stream",
          "text": [
            "Training -----------\n",
            "train cost:  4.452797889709473\n",
            "train cost:  0.1293020099401474\n",
            "train cost:  0.018677741289138794\n",
            "train cost:  0.006959336809813976\n"
          ],
          "name": "stdout"
        }
      ]
    },
    {
      "cell_type": "code",
      "metadata": {
        "id": "kz-kLbJZEzYq",
        "outputId": "25af82f0-cd64-40e9-fec6-32c7e28334e8",
        "colab": {
          "base_uri": "https://localhost:8080/",
          "height": 119
        }
      },
      "source": [
        "# test\n",
        "print('Testing ------------')\n",
        "cost = model.evaluate(X_test, Y_test, batch_size=40)\n",
        "print('test cost:', cost)\n",
        "W, b = model.layers[0].get_weights()\n",
        "print('Weights=', W, '\\nbiases=', b)"
      ],
      "execution_count": 11,
      "outputs": [
        {
          "output_type": "stream",
          "text": [
            "\n",
            "Testing ------------\n",
            "1/1 [==============================] - 0s 1ms/step - loss: 0.0087\n",
            "test cost: 0.008732345886528492\n",
            "Weights= [[0.6166482]] \n",
            "biases= [2.0059092]\n"
          ],
          "name": "stdout"
        }
      ]
    },
    {
      "cell_type": "code",
      "metadata": {
        "id": "xLhq4MglE7i_",
        "outputId": "7ef6aa35-e17a-49f2-e3da-b68116f1a2e6",
        "colab": {
          "base_uri": "https://localhost:8080/",
          "height": 265
        }
      },
      "source": [
        "# plotting the prediction\n",
        "Y_pred = model.predict(X_test)\n",
        "plt.scatter(X_test, Y_test)\n",
        "plt.plot(X_test, Y_pred)\n",
        "plt.show()"
      ],
      "execution_count": 14,
      "outputs": [
        {
          "output_type": "display_data",
          "data": {
            "image/png": "[encoded data removed]",
            "text/plain": [
              "<Figure size 432x288 with 1 Axes>"
            ]
          },
          "metadata": {
            "tags": [],
            "needs_background": "light"
          }
        }
      ]
    },
    {
      "cell_type": "code",
      "metadata": {
        "id": "_VuIqXKfFFtJ"
      },
      "source": [
        ""
      ],
      "execution_count": null,
      "outputs": []
    }
  ]
}