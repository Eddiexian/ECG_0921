{
  "nbformat": 4,
  "nbformat_minor": 0,
  "metadata": {
    "colab": {
      "name": "Classifier.ipynb",
      "provenance": []
    },
    "kernelspec": {
      "name": "python3",
      "display_name": "Python 3"
    }
  },
  "cells": [
    {
      "cell_type": "code",
      "metadata": {
        "id": "PHFbvPSqGrLI"
      },
      "source": [
        "\n",
        "import numpy as np\n",
        "from keras.datasets import mnist\n",
        "from keras.utils import np_utils\n",
        "from keras.models import Sequential\n",
        "from keras.layers import Dense, Activation\n",
        "from keras.optimizers import RMSprop"
      ],
      "execution_count": 1,
      "outputs": []
    },
    {
      "cell_type": "code",
      "metadata": {
        "id": "7OAg0tbJGv7O",
        "outputId": "c06e5af8-6a88-41e8-9402-432d16f5586c",
        "colab": {
          "base_uri": "https://localhost:8080/",
          "height": 51
        }
      },
      "source": [
        "#download mnist dataset\n",
        "(X_train, y_train), (X_test, y_test) = mnist.load_data()\n"
      ],
      "execution_count": 2,
      "outputs": [
        {
          "output_type": "stream",
          "text": [
            "Downloading data from https://storage.googleapis.com/tensorflow/tf-keras-datasets/mnist.npz\n",
            "11493376/11490434 [==============================] - 0s 0us/step\n"
          ],
          "name": "stdout"
        }
      ]
    },
    {
      "cell_type": "code",
      "metadata": {
        "id": "_KDI6TO5G5f4"
      },
      "source": [
        "\n",
        "# data pre-processing\n",
        "X_train = X_train.reshape(X_train.shape[0], -1) / 255.   # normalize\n",
        "X_test = X_test.reshape(X_test.shape[0], -1) / 255.      # normalize\n",
        "y_train = np_utils.to_categorical(y_train, num_classes=10)\n",
        "y_test = np_utils.to_categorical(y_test, num_classes=10)"
      ],
      "execution_count": 3,
      "outputs": []
    },
    {
      "cell_type": "code",
      "metadata": {
        "id": "0MeUc9jDHBAQ"
      },
      "source": [
        "# Another way to build your neural net\n",
        "model = Sequential([\n",
        "    Dense(32, input_dim=784),\n",
        "    Activation('relu'),\n",
        "    Dense(10),\n",
        "    Activation('softmax'),\n",
        "])"
      ],
      "execution_count": 5,
      "outputs": []
    },
    {
      "cell_type": "code",
      "metadata": {
        "id": "cIo8RAWMHOzp"
      },
      "source": [
        "# Another way to define your optimizer\n",
        "rmsprop = RMSprop(lr=0.001, rho=0.9, epsilon=1e-08, decay=0.0)\n",
        "\n",
        "# We add metrics to get more results you want to see\n",
        "model.compile(optimizer=rmsprop,\n",
        "              loss='categorical_crossentropy',\n",
        "              metrics=['accuracy'])"
      ],
      "execution_count": 6,
      "outputs": []
    },
    {
      "cell_type": "code",
      "metadata": {
        "id": "OjSe2koRHS_v",
        "outputId": "3dfb23ad-42b4-47f3-8a86-da11ad1bfa1e",
        "colab": {
          "base_uri": "https://localhost:8080/",
          "height": 187
        }
      },
      "source": [
        "\n",
        "print('Training ------------')\n",
        "# Another way to train the model\n",
        "model.fit(X_train, y_train, epochs=2, batch_size=32)\n",
        "\n",
        "print('\\nTesting ------------')\n",
        "# Evaluate the model with the metrics we defined earlier\n",
        "loss, accuracy = model.evaluate(X_test, y_test)\n",
        "\n",
        "print('test loss: ', loss)\n",
        "print('test accuracy: ', accuracy)\n"
      ],
      "execution_count": 7,
      "outputs": [
        {
          "output_type": "stream",
          "text": [
            "Training ------------\n",
            "Epoch 1/2\n",
            "1875/1875 [==============================] - 2s 1ms/step - loss: 0.3418 - accuracy: 0.9054\n",
            "Epoch 2/2\n",
            "1875/1875 [==============================] - 2s 1ms/step - loss: 0.1906 - accuracy: 0.9452\n",
            "\n",
            "Testing ------------\n",
            "313/313 [==============================] - 0s 933us/step - loss: 0.1645 - accuracy: 0.9522\n",
            "test loss:  0.1644902229309082\n",
            "test accuracy:  0.9521999955177307\n"
          ],
          "name": "stdout"
        }
      ]
    },
    {
      "cell_type": "code",
      "metadata": {
        "id": "mTP9F_1pHXEh"
      },
      "source": [
        ""
      ],
      "execution_count": null,
      "outputs": []
    }
  ]
}